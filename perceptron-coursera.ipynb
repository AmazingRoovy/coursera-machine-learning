{
 "cells": [
  {
   "cell_type": "code",
   "execution_count": 80,
   "metadata": {},
   "outputs": [],
   "source": [
    "import sklearn\n",
    "from sklearn.linear_model import Perceptron\n",
    "from sklearn.metrics import accuracy_score\n",
    "from sklearn.preprocessing import StandardScaler\n",
    "\n",
    "import numpy as np\n",
    "import pandas as pd"
   ]
  },
  {
   "cell_type": "code",
   "execution_count": 152,
   "metadata": {},
   "outputs": [],
   "source": [
    "dataset_train = pd.read_csv(\"perceptron-train.csv\", header=None)\n",
    "dataset_test  = pd.read_csv(\"perceptron-test.csv\", header=None)\n",
    "\n",
    "X_train = dataset_train.loc[:, 1:]\n",
    "y_train = dataset_train.loc[:, 0]\n",
    "\n",
    "X_test = dataset_test.loc[:, 1:]\n",
    "y_test = dataset_test.loc[:, 0]"
   ]
  },
  {
   "cell_type": "code",
   "execution_count": 153,
   "metadata": {},
   "outputs": [
    {
     "data": {
      "text/plain": [
       "0     -1.0\n",
       "1      1.0\n",
       "2     -1.0\n",
       "3     -1.0\n",
       "4      1.0\n",
       "      ... \n",
       "195   -1.0\n",
       "196    1.0\n",
       "197    1.0\n",
       "198   -1.0\n",
       "199    1.0\n",
       "Name: 0, Length: 200, dtype: float64"
      ]
     },
     "execution_count": 153,
     "metadata": {},
     "output_type": "execute_result"
    }
   ],
   "source": [
    "y_test"
   ]
  },
  {
   "cell_type": "code",
   "execution_count": 154,
   "metadata": {},
   "outputs": [
    {
     "data": {
      "text/plain": [
       "Perceptron(alpha=0.0001, class_weight=None, early_stopping=False, eta0=1.0,\n",
       "           fit_intercept=True, max_iter=5, n_iter_no_change=5, n_jobs=None,\n",
       "           penalty=None, random_state=241, shuffle=True, tol=None,\n",
       "           validation_fraction=0.1, verbose=0, warm_start=False)"
      ]
     },
     "execution_count": 154,
     "metadata": {},
     "output_type": "execute_result"
    }
   ],
   "source": [
    "# Learning Stage #1\n",
    "classifier = Perceptron(random_state=241, max_iter=5, tol=None)\n",
    "classifier.fit(X_train, y_train)"
   ]
  },
  {
   "cell_type": "code",
   "execution_count": 155,
   "metadata": {},
   "outputs": [
    {
     "data": {
      "text/plain": [
       "0.655"
      ]
     },
     "execution_count": 155,
     "metadata": {},
     "output_type": "execute_result"
    }
   ],
   "source": [
    "# Accuracy score stage #1\n",
    "y_predicted = classifier.predict(X_test)\n",
    "\n",
    "accuracy_not_standartized = accuracy_score(y_test, y_predicted)\n",
    "accuracy_not_standartized"
   ]
  },
  {
   "cell_type": "code",
   "execution_count": 156,
   "metadata": {},
   "outputs": [],
   "source": [
    "# Normalization Scaler Stage\n",
    "scaler = StandardScaler()\n",
    "X_train_scaled = scaler.fit_transform(X_train)\n",
    "X_test_scaled = scaler.transform(X_test)"
   ]
  },
  {
   "cell_type": "code",
   "execution_count": 157,
   "metadata": {
    "scrolled": true
   },
   "outputs": [
    {
     "data": {
      "text/plain": [
       "0.9"
      ]
     },
     "execution_count": 157,
     "metadata": {},
     "output_type": "execute_result"
    }
   ],
   "source": [
    "# Learning Stage #2\n",
    "perceptrons_efficiency = []\n",
    "\n",
    "max_iters = [x for x in range(1, 100)]\n",
    "for i, max_iter in enumerate(max_iters):\n",
    "    classifier_new = Perceptron(random_state=241, max_iter=max_iter, tol=None)\n",
    "    classifier_new.fit(X_train_scaled, y_train)\n",
    "    y_predicted_scaled = classifier_new.predict(X_test_scaled)\n",
    "    accuracy_standartized = accuracy_score(y_test, y_predicted_scaled)\n",
    "    perceptrons_efficiency.append(accuracy_standartized)\n",
    "    \n",
    "    #print(i, ' = ', accuracy_standartized)\n",
    "\n",
    "max_perceptron_efficiency = max(perceptrons_efficiency)\n",
    "max_index = perceptrons_efficiency.index(max_perceptron_efficiency)\n",
    "\n",
    "max_perceptron_efficiency\n",
    "\n",
    "# max_perceptron_efficiency = perceptrons_efficiency[0]\n",
    "\n",
    "#print(perceptrons_efficiency[0])\n",
    "#indices = [indice in indice, effectiveness in enumerate(perceptrons_efficiency)\n",
    "#if effectiveness == max_perceptron_efficiency]\n",
    "\n",
    "#print(indices)"
   ]
  },
  {
   "cell_type": "code",
   "execution_count": 161,
   "metadata": {},
   "outputs": [
    {
     "data": {
      "text/plain": [
       "0.795"
      ]
     },
     "execution_count": 161,
     "metadata": {},
     "output_type": "execute_result"
    }
   ],
   "source": [
    "# Accuracy score stage #2\n",
    "scaler = StandardScaler()\n",
    "X_train_scaled = scaler.fit_transform(X_train)\n",
    "X_test_scaled = scaler.transform(X_test)\n",
    "\n",
    "classifier_new = Perceptron(random_state=241, max_iter=17, tol=None)\n",
    "classifier_new.fit(X_train_scaled, y_train)\n",
    "    \n",
    "y_predicted_scaled = classifier_new.predict(X_test_scaled)\n",
    "accuracy_standartized = accuracy_score(y_test, y_predicted_scaled)\n",
    "accuracy_standartized"
   ]
  },
  {
   "cell_type": "code",
   "execution_count": 162,
   "metadata": {},
   "outputs": [
    {
     "name": "stdout",
     "output_type": "stream",
     "text": [
      "0.14\n",
      "0.14\n"
     ]
    }
   ],
   "source": [
    "print(str(round(accuracy_standartized - accuracy_not_standartized, 3)))\n",
    "print(str(accuracy_standartized - accuracy_not_standartized))"
   ]
  },
  {
   "cell_type": "code",
   "execution_count": null,
   "metadata": {},
   "outputs": [],
   "source": []
  },
  {
   "cell_type": "code",
   "execution_count": null,
   "metadata": {},
   "outputs": [],
   "source": []
  },
  {
   "cell_type": "code",
   "execution_count": null,
   "metadata": {},
   "outputs": [],
   "source": []
  }
 ],
 "metadata": {
  "kernelspec": {
   "display_name": "Python 3",
   "language": "python",
   "name": "python3"
  },
  "language_info": {
   "codemirror_mode": {
    "name": "ipython",
    "version": 3
   },
   "file_extension": ".py",
   "mimetype": "text/x-python",
   "name": "python",
   "nbconvert_exporter": "python",
   "pygments_lexer": "ipython3",
   "version": "3.7.4"
  }
 },
 "nbformat": 4,
 "nbformat_minor": 2
}
