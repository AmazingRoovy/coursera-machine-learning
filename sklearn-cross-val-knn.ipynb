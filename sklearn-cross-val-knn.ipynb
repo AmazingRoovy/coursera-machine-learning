{
 "cells": [
  {
   "cell_type": "code",
   "execution_count": 35,
   "metadata": {},
   "outputs": [],
   "source": [
    "## kNN method model (special for Coursera HSE x Yandex course)\n",
    "\n",
    "import sklearn\n",
    "from sklearn.neighbors import KNeighborsClassifier\n",
    "from sklearn.model_selection import KFold\n",
    "from sklearn.model_selection import cross_val_score\n",
    "from sklearn.model_selection import train_test_split\n",
    "from sklearn.preprocessing import scale\n",
    "\n",
    "from sklearn import metrics"
   ]
  },
  {
   "cell_type": "code",
   "execution_count": 36,
   "metadata": {},
   "outputs": [],
   "source": [
    "import numpy as np\n",
    "import pandas as pd"
   ]
  },
  {
   "cell_type": "code",
   "execution_count": 37,
   "metadata": {},
   "outputs": [],
   "source": [
    "data = pd.read_csv('wine.data', header=None)\n",
    "X = data.loc[:, 1:]\n",
    "y = data.loc[:, 0]"
   ]
  },
  {
   "cell_type": "code",
   "execution_count": 46,
   "metadata": {},
   "outputs": [],
   "source": [
    "kf = KFold(n_splits=5, shuffle=True, random_state=42)\n",
    "kMeans = list()\n",
    "\n",
    "## Для просмотра содержимого после разбиения нашего датасета\n",
    "## на тренировочную и тестовую части - разкомментируйте:\n",
    "\n",
    "#for train_index, test_index in kf.split(X):\n",
    "    #pass\n",
    "    # print(\"TRAIN: \", train_index, \"TEST: \", test_index)"
   ]
  },
  {
   "cell_type": "code",
   "execution_count": 51,
   "metadata": {},
   "outputs": [
    {
     "name": "stdout",
     "output_type": "stream",
     "text": [
      "1\n",
      "0.73\n"
     ]
    }
   ],
   "source": [
    "## Найдем качество без нормировки признаков (Задания 1 и 2)\n",
    "for k in range(1, 51):\n",
    "    kn_model = KNeighborsClassifier(n_neighbors=k)\n",
    "    kn_model.fit(X, y)\n",
    "    cvs = cross_val_score(estimator=kn_model, X=X, y=y, cv=kf, scoring='accuracy')\n",
    "    ## \n",
    "    kMeans.append(cvs.mean())\n",
    "\n",
    "maximum_validation_result = max(kMeans)\n",
    "indices = [i for i, j in enumerate(kMeans) \n",
    "           if j == maximum_validation_result]\n",
    "print(indices[0] + 1)\n",
    "print(np.round(maximum_validation_result, decimals=2))"
   ]
  },
  {
   "cell_type": "code",
   "execution_count": 55,
   "metadata": {},
   "outputs": [],
   "source": [
    "X_scaled = scale(X)\n",
    "kMeans = list()"
   ]
  },
  {
   "cell_type": "code",
   "execution_count": 56,
   "metadata": {},
   "outputs": [
    {
     "name": "stdout",
     "output_type": "stream",
     "text": [
      "29\n",
      "0.98\n"
     ]
    }
   ],
   "source": [
    "for k in range(1, 51):\n",
    "    kn_model = KNeighborsClassifier(n_neighbors=k)\n",
    "    #kn_model.fit(X, y)\n",
    "    cvs = cross_val_score(estimator=kn_model, X=X_scaled, y=y, cv=kf, scoring='accuracy')\n",
    "    ## \n",
    "    kMeans.append(cvs.mean())\n",
    "    \n",
    "maximum_validation_result = max(kMeans)\n",
    "indices = [i for i, j in enumerate(kMeans) \n",
    "           if j == maximum_validation_result]\n",
    "print(indices[0] + 1)\n",
    "print(np.round(maximum_validation_result, decimals=2))"
   ]
  },
  {
   "cell_type": "code",
   "execution_count": null,
   "metadata": {},
   "outputs": [],
   "source": []
  },
  {
   "cell_type": "code",
   "execution_count": null,
   "metadata": {},
   "outputs": [],
   "source": []
  },
  {
   "cell_type": "code",
   "execution_count": null,
   "metadata": {},
   "outputs": [],
   "source": []
  },
  {
   "cell_type": "code",
   "execution_count": null,
   "metadata": {},
   "outputs": [],
   "source": []
  },
  {
   "cell_type": "code",
   "execution_count": null,
   "metadata": {},
   "outputs": [],
   "source": []
  },
  {
   "cell_type": "code",
   "execution_count": null,
   "metadata": {},
   "outputs": [],
   "source": []
  }
 ],
 "metadata": {
  "kernelspec": {
   "display_name": "Python 3",
   "language": "python",
   "name": "python3"
  },
  "language_info": {
   "codemirror_mode": {
    "name": "ipython",
    "version": 3
   },
   "file_extension": ".py",
   "mimetype": "text/x-python",
   "name": "python",
   "nbconvert_exporter": "python",
   "pygments_lexer": "ipython3",
   "version": "3.7.4"
  }
 },
 "nbformat": 4,
 "nbformat_minor": 2
}
